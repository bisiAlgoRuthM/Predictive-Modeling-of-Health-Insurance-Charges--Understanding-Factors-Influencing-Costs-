{
 "cells": [
  {
   "cell_type": "code",
   "execution_count": 65,
   "metadata": {},
   "outputs": [
    {
     "ename": "ModuleNotFoundError",
     "evalue": "No module named 'tensorflow'",
     "output_type": "error",
     "traceback": [
      "\u001b[0;31m---------------------------------------------------------------------------\u001b[0m",
      "\u001b[0;31mModuleNotFoundError\u001b[0m                       Traceback (most recent call last)",
      "\u001b[1;32m/Users/bisialgoruthm/Documents/Python/Predictive-Modeling-of-Health-Insurance-Charges--Understanding-Factors-Influencing-Costs-/train-model-test.ipynb Cell 1\u001b[0m line \u001b[0;36m3\n\u001b[1;32m      <a href='vscode-notebook-cell:/Users/bisialgoruthm/Documents/Python/Predictive-Modeling-of-Health-Insurance-Charges--Understanding-Factors-Influencing-Costs-/train-model-test.ipynb#W0sZmlsZQ%3D%3D?line=0'>1</a>\u001b[0m \u001b[39m#Importing...\u001b[39;00m\n\u001b[1;32m      <a href='vscode-notebook-cell:/Users/bisialgoruthm/Documents/Python/Predictive-Modeling-of-Health-Insurance-Charges--Understanding-Factors-Influencing-Costs-/train-model-test.ipynb#W0sZmlsZQ%3D%3D?line=1'>2</a>\u001b[0m \u001b[39mimport\u001b[39;00m \u001b[39mpandas\u001b[39;00m \u001b[39mas\u001b[39;00m \u001b[39mpd\u001b[39;00m\n\u001b[0;32m----> <a href='vscode-notebook-cell:/Users/bisialgoruthm/Documents/Python/Predictive-Modeling-of-Health-Insurance-Charges--Understanding-Factors-Influencing-Costs-/train-model-test.ipynb#W0sZmlsZQ%3D%3D?line=2'>3</a>\u001b[0m \u001b[39mimport\u001b[39;00m \u001b[39mtensorflow\u001b[39;00m \u001b[39mas\u001b[39;00m \u001b[39mtf\u001b[39;00m\n\u001b[1;32m      <a href='vscode-notebook-cell:/Users/bisialgoruthm/Documents/Python/Predictive-Modeling-of-Health-Insurance-Charges--Understanding-Factors-Influencing-Costs-/train-model-test.ipynb#W0sZmlsZQ%3D%3D?line=3'>4</a>\u001b[0m \u001b[39mfrom\u001b[39;00m \u001b[39msklearn\u001b[39;00m\u001b[39m.\u001b[39;00m\u001b[39mensemble\u001b[39;00m \u001b[39mimport\u001b[39;00m RandomForestRegressor\n\u001b[1;32m      <a href='vscode-notebook-cell:/Users/bisialgoruthm/Documents/Python/Predictive-Modeling-of-Health-Insurance-Charges--Understanding-Factors-Influencing-Costs-/train-model-test.ipynb#W0sZmlsZQ%3D%3D?line=4'>5</a>\u001b[0m \u001b[39mfrom\u001b[39;00m \u001b[39msklearn\u001b[39;00m\u001b[39m.\u001b[39;00m\u001b[39mlinear_model\u001b[39;00m \u001b[39mimport\u001b[39;00m LinearRegression\n",
      "\u001b[0;31mModuleNotFoundError\u001b[0m: No module named 'tensorflow'"
     ]
    }
   ],
   "source": [
    "#Importing...\n",
    "import pandas as pd\n",
    "import tensorflow as tf\n",
    "from tensorflow.keras.utils import plot_model\n",
    "from sklearn.ensemble import RandomForestRegressor\n",
    "from sklearn.linear_model import LinearRegression\n",
    "from sklearn.model_selection import train_test_split, GridSearchCV\n",
    "from sklearn.metrics import mean_squared_error, r2_score\n",
    "from sklearn.preprocessing import StandardScaler, MinMaxScaler\n",
    "from sklearn.linear_model import Ridge \n",
    "from sklearn.pipeline import Pipeline\n",
    "from xgboost import XGBRegressor\n"
   ]
  },
  {
   "cell_type": "markdown",
   "metadata": {},
   "source": []
  },
  {
   "cell_type": "code",
   "execution_count": 56,
   "metadata": {},
   "outputs": [
    {
     "data": {
      "text/html": [
       "<div>\n",
       "<style scoped>\n",
       "    .dataframe tbody tr th:only-of-type {\n",
       "        vertical-align: middle;\n",
       "    }\n",
       "\n",
       "    .dataframe tbody tr th {\n",
       "        vertical-align: top;\n",
       "    }\n",
       "\n",
       "    .dataframe thead th {\n",
       "        text-align: right;\n",
       "    }\n",
       "</style>\n",
       "<table border=\"1\" class=\"dataframe\">\n",
       "  <thead>\n",
       "    <tr style=\"text-align: right;\">\n",
       "      <th></th>\n",
       "      <th>Unnamed: 0</th>\n",
       "      <th>age</th>\n",
       "      <th>bmi</th>\n",
       "      <th>children</th>\n",
       "      <th>charges</th>\n",
       "      <th>sex_male</th>\n",
       "      <th>smoker_yes</th>\n",
       "      <th>region_northwest</th>\n",
       "      <th>region_southeast</th>\n",
       "      <th>region_southwest</th>\n",
       "    </tr>\n",
       "  </thead>\n",
       "  <tbody>\n",
       "    <tr>\n",
       "      <th>0</th>\n",
       "      <td>0</td>\n",
       "      <td>19</td>\n",
       "      <td>27.900</td>\n",
       "      <td>0</td>\n",
       "      <td>16884.92400</td>\n",
       "      <td>0</td>\n",
       "      <td>1</td>\n",
       "      <td>0</td>\n",
       "      <td>0</td>\n",
       "      <td>1</td>\n",
       "    </tr>\n",
       "    <tr>\n",
       "      <th>1</th>\n",
       "      <td>1</td>\n",
       "      <td>18</td>\n",
       "      <td>33.770</td>\n",
       "      <td>1</td>\n",
       "      <td>1725.55230</td>\n",
       "      <td>1</td>\n",
       "      <td>0</td>\n",
       "      <td>0</td>\n",
       "      <td>1</td>\n",
       "      <td>0</td>\n",
       "    </tr>\n",
       "    <tr>\n",
       "      <th>2</th>\n",
       "      <td>2</td>\n",
       "      <td>28</td>\n",
       "      <td>33.000</td>\n",
       "      <td>3</td>\n",
       "      <td>4449.46200</td>\n",
       "      <td>1</td>\n",
       "      <td>0</td>\n",
       "      <td>0</td>\n",
       "      <td>1</td>\n",
       "      <td>0</td>\n",
       "    </tr>\n",
       "    <tr>\n",
       "      <th>3</th>\n",
       "      <td>3</td>\n",
       "      <td>33</td>\n",
       "      <td>22.705</td>\n",
       "      <td>0</td>\n",
       "      <td>21984.47061</td>\n",
       "      <td>1</td>\n",
       "      <td>0</td>\n",
       "      <td>1</td>\n",
       "      <td>0</td>\n",
       "      <td>0</td>\n",
       "    </tr>\n",
       "    <tr>\n",
       "      <th>4</th>\n",
       "      <td>4</td>\n",
       "      <td>32</td>\n",
       "      <td>28.880</td>\n",
       "      <td>0</td>\n",
       "      <td>3866.85520</td>\n",
       "      <td>1</td>\n",
       "      <td>0</td>\n",
       "      <td>1</td>\n",
       "      <td>0</td>\n",
       "      <td>0</td>\n",
       "    </tr>\n",
       "  </tbody>\n",
       "</table>\n",
       "</div>"
      ],
      "text/plain": [
       "   Unnamed: 0  age     bmi  children      charges  sex_male  smoker_yes  \\\n",
       "0           0   19  27.900         0  16884.92400         0           1   \n",
       "1           1   18  33.770         1   1725.55230         1           0   \n",
       "2           2   28  33.000         3   4449.46200         1           0   \n",
       "3           3   33  22.705         0  21984.47061         1           0   \n",
       "4           4   32  28.880         0   3866.85520         1           0   \n",
       "\n",
       "   region_northwest  region_southeast  region_southwest  \n",
       "0                 0                 0                 1  \n",
       "1                 0                 1                 0  \n",
       "2                 0                 1                 0  \n",
       "3                 1                 0                 0  \n",
       "4                 1                 0                 0  "
      ]
     },
     "execution_count": 56,
     "metadata": {},
     "output_type": "execute_result"
    }
   ],
   "source": [
    "#Load data\n",
    "data = pd.read_csv('cleaned_data.csv')\n",
    "\n",
    "data.head()"
   ]
  },
  {
   "cell_type": "code",
   "execution_count": 7,
   "metadata": {},
   "outputs": [],
   "source": [
    "#Features and target variables\n",
    "\n",
    "X = data.drop(columns=['charges'])\n",
    "y = data['charges']"
   ]
  },
  {
   "cell_type": "code",
   "execution_count": 8,
   "metadata": {},
   "outputs": [],
   "source": [
    "#Split data\n",
    "\n",
    "X_train, X_test, y_train, y_test = train_test_split(X, y, random_state=42, test_size=0.2)"
   ]
  },
  {
   "cell_type": "code",
   "execution_count": 15,
   "metadata": {},
   "outputs": [],
   "source": [
    "#Models\n",
    "\n",
    "linerarRegressor = LinearRegression()\n",
    "linerarRegressor.fit(X_train, y_train)\n",
    "predictions_lr = linerarRegressor.predict(X_test)\n",
    "\n",
    "\n",
    "randomForestModel = RandomForestRegressor(n_estimators=100, random_state=42)\n",
    "randomForestModel.fit(X_train, y_train)\n",
    "predictions_rf = randomForestModel.predict(X_test)\n"
   ]
  },
  {
   "cell_type": "code",
   "execution_count": 21,
   "metadata": {},
   "outputs": [
    {
     "name": "stdout",
     "output_type": "stream",
     "text": [
      "\n",
      "Mean Squared Error for Linear Regression : 35564984.47965559\n",
      "\n",
      "R-squared Score Linear Regression: 0.8064554513330181\n",
      "\n",
      "Mean Squared Error of Random Forest: 20478073.23579169\n",
      "\n",
      "R-squared Score of Random Forest: 0.8885583812286515\n"
     ]
    }
   ],
   "source": [
    "#Model Evaluation\n",
    "mse_lr = mean_squared_error(y_test, y_pred=predictions_lr)\n",
    "\n",
    "r2_lr= r2_score(y_test, y_pred=predictions_lr)\n",
    "\n",
    "print(f\"\\nMean Squared Error for Linear Regression : {mse_lr}\\n\"\n",
    "      f\"\\nR-squared Score Linear Regression: {r2_lr}\"\n",
    "      )\n",
    "\n",
    "mse_rf = mean_squared_error(y_test, y_pred=predictions_rf)\n",
    "\n",
    "r2_rf= r2_score(y_test, y_pred=predictions_rf)\n",
    "\n",
    "print(f\"\\nMean Squared Error of Random Forest: {mse_rf}\\n\"\n",
    "      f\"\\nR-squared Score of Random Forest: {r2_rf}\"\n",
    "      )"
   ]
  },
  {
   "cell_type": "code",
   "execution_count": 54,
   "metadata": {},
   "outputs": [],
   "source": [
    "\n",
    "#Standardization\n",
    "scaler_std = StandardScaler()\n",
    "X_train_std = scaler_std.fit_transform(X_train)\n",
    "X_test_std = scaler_std.fit_transform(X_test)\n",
    "\n",
    "#Normalization\n",
    "scaler_minmax = MinMaxScaler()\n",
    "X_train_minmax = scaler_minmax.fit_transform(X_train)\n",
    "X_test_minmax = scaler_minmax.fit_transform(X_test)\n"
   ]
  },
  {
   "cell_type": "code",
   "execution_count": 64,
   "metadata": {},
   "outputs": [
    {
     "name": "stdout",
     "output_type": "stream",
     "text": [
      "\n",
      "Ridge Regression Mean Squared Error:\n",
      " 38366284.09655684\n",
      "\n",
      "Ridge Regression R2 score:\n",
      " 0.7912107864479742\n"
     ]
    }
   ],
   "source": [
    "\n",
    "ridge = Ridge(alpha=1.0)\n",
    "ridge.fit(X_train_std, y_train)\n",
    "\n",
    "predictions_ridge = ridge.predict(X_test_std)\n",
    "\n",
    "mse_ridge = mean_squared_error(y_test, predictions_ridge)\n",
    "r2_ridge = r2_score(y_test, predictions_ridge)\n",
    "\n",
    "print(\"\\nRidge Regression Mean Squared Error:\\n\", mse_ridge)\n",
    "print(\"\\nRidge Regression R2 score:\\n\", r2_ridge)"
   ]
  },
  {
   "cell_type": "markdown",
   "metadata": {},
   "source": [
    "Ridge Regression:\n",
    "Ridge Regression is a type of regularized linear regression that can help in handling multicollinearity and prevent overfitting by adding a regularization term to the cost function"
   ]
  },
  {
   "cell_type": "code",
   "execution_count": 63,
   "metadata": {},
   "outputs": [
    {
     "name": "stdout",
     "output_type": "stream",
     "text": [
      "\n",
      "Best Hyperparameters:\n",
      " {'model__alpha': 10.0}\n",
      "\n",
      "Best Cross-Validation MSE:\n",
      " 37629448.590384945\n",
      "\n",
      "Test Set MSE with Best Model:\n",
      " 35915547.839589596\n",
      "\n",
      "Test Set R2 with Best Model:\n",
      " 0.8045476864831158\n"
     ]
    }
   ],
   "source": [
    "\n",
    "#Set up the pipeline with scaling and the Ridge model\n",
    "steps = [\n",
    "    ('scaler', StandardScaler()),\n",
    "    ('model', Ridge()) \n",
    "]\n",
    "\n",
    "pipeline = Pipeline(steps)\n",
    "\n",
    "#Hyperparameters grid to search over\n",
    "param_grid = {\n",
    "    'model__alpha': [0.001, 0.01, 0.1, 1.0, 10.0, 100.0]  # Values of alpha to test\n",
    "}\n",
    "\n",
    "# Perform GridSearchCV\n",
    "grid = GridSearchCV(pipeline, param_grid, cv=5, scoring='neg_mean_squared_error')\n",
    "grid.fit(X_train, y_train)\n",
    "\n",
    "#Best hyperparameters and best score\n",
    "print(\"\\nBest Hyperparameters:\\n\", grid.best_params_)\n",
    "print(\"\\nBest Cross-Validation MSE:\\n\", -grid.best_score_)\n",
    "\n",
    "#Evaluate on test set using best model\n",
    "best_model = grid.best_estimator_\n",
    "test_predictions = best_model.predict(X_test)\n",
    "\n",
    "test_mse = mean_squared_error(y_test, test_predictions)\n",
    "test_r2 = r2_score(y_test, test_predictions)\n",
    "\n",
    "print(\"\\nTest Set MSE with Best Model:\\n\", test_mse)\n",
    "print(\"\\nTest Set R2 with Best Model:\\n\", test_r2)"
   ]
  },
  {
   "cell_type": "markdown",
   "metadata": {},
   "source": [
    "XGBoost: Gradient Boosting Regression (e.g., XGBoost, LightGBM):\n",
    "Model: Builds trees sequentially, focusing on areas where previous trees performed poorly. We will aso tune the hyperparameters to optimize model\n"
   ]
  },
  {
   "cell_type": "code",
   "execution_count": 61,
   "metadata": {},
   "outputs": [
    {
     "name": "stdout",
     "output_type": "stream",
     "text": [
      "\n",
      "Best Hyperparameters:\n",
      " {'learning_rate': 0.01, 'max_depth': 3, 'n_estimators': 300}\n",
      "\n",
      "Best Cross-Validation MSE:\n",
      " 21658101.807436105\n",
      "\n",
      "Test Set MSE with Best Model:\n",
      " 19114153.728462704\n",
      "\n",
      "Test Set R2 with Best Model: \n",
      " 0.895980827472515\n"
     ]
    }
   ],
   "source": [
    "xgb = XGBRegressor()\n",
    "\n",
    "param_grid = {\n",
    "    'learning_rate': [0.01, 0.1, 0.2],\n",
    "    'n_estimators': [100, 200, 300],\n",
    "    'max_depth': [3, 4, 5]\n",
    "}\n",
    "grid = GridSearchCV(xgb, param_grid, cv=5, scoring='neg_mean_squared_error')\n",
    "grid.fit(X_train, y_train)\n",
    "\n",
    "#Best parameters\n",
    "print(\"\\nBest Hyperparameters:\\n\", grid.best_params_)\n",
    "print(\"\\nBest Cross-Validation MSE:\\n\", -grid.best_score_)\n",
    "\n",
    "#Model Evaluation\n",
    "best_model = grid.best_estimator_\n",
    "test_predictions = best_model.predict(X_test)\n",
    "\n",
    "test_mse_xgb = mean_squared_error(y_test, test_predictions)\n",
    "test_r2_xgb = r2_score(y_test, test_predictions)\n",
    "\n",
    "print(\"\\nTest Set MSE with Best Model:\\n\", test_mse_xgb)\n",
    "print(\"\\nTest Set R2 with Best Model: \\n\", test_r2_xgb)\n"
   ]
  },
  {
   "cell_type": "code",
   "execution_count": null,
   "metadata": {},
   "outputs": [],
   "source": [
    "Model = tf.keras.Sequential([\n",
    "    tf.keras.layers.Dense(100),\n",
    "    tf.keras.layers.Dense(10),\n",
    "    tf.keras.layers.Dense(1)\n",
    "]\n",
    ")\n",
    "Model.compile(\n",
    "    loss = tf.keras.losses.mae,\n",
    "    optimizer = tf.keras.optimizers.Adam(lr = 0.01),\n",
    "    metrics = ['mae']\n",
    ")\n",
    "Model.fit(X_train,y_train,epochs= 200)"
   ]
  },
  {
   "cell_type": "code",
   "execution_count": null,
   "metadata": {},
   "outputs": [],
   "source": [
    "\n",
    "plot_model(Model,show_shapes=True)"
   ]
  },
  {
   "cell_type": "code",
   "execution_count": null,
   "metadata": {},
   "outputs": [],
   "source": [
    "ev = Model.evaluate(X_test,y_test)"
   ]
  }
 ],
 "metadata": {
  "kernelspec": {
   "display_name": ".venv",
   "language": "python",
   "name": "python3"
  },
  "language_info": {
   "codemirror_mode": {
    "name": "ipython",
    "version": 3
   },
   "file_extension": ".py",
   "mimetype": "text/x-python",
   "name": "python",
   "nbconvert_exporter": "python",
   "pygments_lexer": "ipython3",
   "version": "3.9.6"
  }
 },
 "nbformat": 4,
 "nbformat_minor": 2
}
